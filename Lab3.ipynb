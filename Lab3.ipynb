{
  "nbformat": 4,
  "nbformat_minor": 0,
  "metadata": {
    "colab": {
      "provenance": []
    },
    "kernelspec": {
      "name": "python3",
      "display_name": "Python 3"
    },
    "language_info": {
      "name": "python"
    }
  },
  "cells": [
    {
      "cell_type": "code",
      "execution_count": null,
      "metadata": {
        "id": "ZLD67oA2Uh8b"
      },
      "outputs": [],
      "source": [
        "import pandas as pd\n",
        "import numpy as np\n",
        "from google.colab import drive\n",
        "import statistics as stat\n",
        "from scipy import stats as st\n",
        "from scipy.stats import shapiro"
      ]
    },
    {
      "cell_type": "code",
      "source": [
        "drive.mount('/content/gdrive')\n",
        "femaleBaseFreq = pd.read_csv('/content/gdrive/MyDrive/Colab Notebooks/Статистика/femaleBaseFreq.csv', header = 'infer', sep=';', decimal = ',')\n",
        "femaleBaseFreq.head()"
      ],
      "metadata": {
        "colab": {
          "base_uri": "https://localhost:8080/",
          "height": 223
        },
        "id": "aKbt_lJUfN7D",
        "outputId": "e982a0e4-7173-4017-9dbb-225a45b232a3"
      },
      "execution_count": 8,
      "outputs": [
        {
          "output_type": "stream",
          "name": "stdout",
          "text": [
            "Drive already mounted at /content/gdrive; to attempt to forcibly remount, call drive.mount(\"/content/gdrive\", force_remount=True).\n"
          ]
        },
        {
          "output_type": "execute_result",
          "data": {
            "text/plain": [
              "   happiness  sadness  anger  surprise   fear  disgust  neutral\n",
              "0      271.8    180.5  245.7     199.1  238.8    172.9    185.2\n",
              "1      198.6    130.2  205.7     170.9  150.2    167.9    146.2\n",
              "2      245.4    193.2  270.7     210.2  280.8    240.1    202.8\n",
              "3      278.9    210.9  280.1     254.8  270.4    250.7    222.9\n",
              "4      249.3    178.1  218.9     207.4  220.7    217.3    185.2"
            ],
            "text/html": [
              "\n",
              "  <div id=\"df-1f3ad368-6155-499f-8bdc-f78f35c5a061\" class=\"colab-df-container\">\n",
              "    <div>\n",
              "<style scoped>\n",
              "    .dataframe tbody tr th:only-of-type {\n",
              "        vertical-align: middle;\n",
              "    }\n",
              "\n",
              "    .dataframe tbody tr th {\n",
              "        vertical-align: top;\n",
              "    }\n",
              "\n",
              "    .dataframe thead th {\n",
              "        text-align: right;\n",
              "    }\n",
              "</style>\n",
              "<table border=\"1\" class=\"dataframe\">\n",
              "  <thead>\n",
              "    <tr style=\"text-align: right;\">\n",
              "      <th></th>\n",
              "      <th>happiness</th>\n",
              "      <th>sadness</th>\n",
              "      <th>anger</th>\n",
              "      <th>surprise</th>\n",
              "      <th>fear</th>\n",
              "      <th>disgust</th>\n",
              "      <th>neutral</th>\n",
              "    </tr>\n",
              "  </thead>\n",
              "  <tbody>\n",
              "    <tr>\n",
              "      <th>0</th>\n",
              "      <td>271.8</td>\n",
              "      <td>180.5</td>\n",
              "      <td>245.7</td>\n",
              "      <td>199.1</td>\n",
              "      <td>238.8</td>\n",
              "      <td>172.9</td>\n",
              "      <td>185.2</td>\n",
              "    </tr>\n",
              "    <tr>\n",
              "      <th>1</th>\n",
              "      <td>198.6</td>\n",
              "      <td>130.2</td>\n",
              "      <td>205.7</td>\n",
              "      <td>170.9</td>\n",
              "      <td>150.2</td>\n",
              "      <td>167.9</td>\n",
              "      <td>146.2</td>\n",
              "    </tr>\n",
              "    <tr>\n",
              "      <th>2</th>\n",
              "      <td>245.4</td>\n",
              "      <td>193.2</td>\n",
              "      <td>270.7</td>\n",
              "      <td>210.2</td>\n",
              "      <td>280.8</td>\n",
              "      <td>240.1</td>\n",
              "      <td>202.8</td>\n",
              "    </tr>\n",
              "    <tr>\n",
              "      <th>3</th>\n",
              "      <td>278.9</td>\n",
              "      <td>210.9</td>\n",
              "      <td>280.1</td>\n",
              "      <td>254.8</td>\n",
              "      <td>270.4</td>\n",
              "      <td>250.7</td>\n",
              "      <td>222.9</td>\n",
              "    </tr>\n",
              "    <tr>\n",
              "      <th>4</th>\n",
              "      <td>249.3</td>\n",
              "      <td>178.1</td>\n",
              "      <td>218.9</td>\n",
              "      <td>207.4</td>\n",
              "      <td>220.7</td>\n",
              "      <td>217.3</td>\n",
              "      <td>185.2</td>\n",
              "    </tr>\n",
              "  </tbody>\n",
              "</table>\n",
              "</div>\n",
              "    <div class=\"colab-df-buttons\">\n",
              "\n",
              "  <div class=\"colab-df-container\">\n",
              "    <button class=\"colab-df-convert\" onclick=\"convertToInteractive('df-1f3ad368-6155-499f-8bdc-f78f35c5a061')\"\n",
              "            title=\"Convert this dataframe to an interactive table.\"\n",
              "            style=\"display:none;\">\n",
              "\n",
              "  <svg xmlns=\"http://www.w3.org/2000/svg\" height=\"24px\" viewBox=\"0 -960 960 960\">\n",
              "    <path d=\"M120-120v-720h720v720H120Zm60-500h600v-160H180v160Zm220 220h160v-160H400v160Zm0 220h160v-160H400v160ZM180-400h160v-160H180v160Zm440 0h160v-160H620v160ZM180-180h160v-160H180v160Zm440 0h160v-160H620v160Z\"/>\n",
              "  </svg>\n",
              "    </button>\n",
              "\n",
              "  <style>\n",
              "    .colab-df-container {\n",
              "      display:flex;\n",
              "      gap: 12px;\n",
              "    }\n",
              "\n",
              "    .colab-df-convert {\n",
              "      background-color: #E8F0FE;\n",
              "      border: none;\n",
              "      border-radius: 50%;\n",
              "      cursor: pointer;\n",
              "      display: none;\n",
              "      fill: #1967D2;\n",
              "      height: 32px;\n",
              "      padding: 0 0 0 0;\n",
              "      width: 32px;\n",
              "    }\n",
              "\n",
              "    .colab-df-convert:hover {\n",
              "      background-color: #E2EBFA;\n",
              "      box-shadow: 0px 1px 2px rgba(60, 64, 67, 0.3), 0px 1px 3px 1px rgba(60, 64, 67, 0.15);\n",
              "      fill: #174EA6;\n",
              "    }\n",
              "\n",
              "    .colab-df-buttons div {\n",
              "      margin-bottom: 4px;\n",
              "    }\n",
              "\n",
              "    [theme=dark] .colab-df-convert {\n",
              "      background-color: #3B4455;\n",
              "      fill: #D2E3FC;\n",
              "    }\n",
              "\n",
              "    [theme=dark] .colab-df-convert:hover {\n",
              "      background-color: #434B5C;\n",
              "      box-shadow: 0px 1px 3px 1px rgba(0, 0, 0, 0.15);\n",
              "      filter: drop-shadow(0px 1px 2px rgba(0, 0, 0, 0.3));\n",
              "      fill: #FFFFFF;\n",
              "    }\n",
              "  </style>\n",
              "\n",
              "    <script>\n",
              "      const buttonEl =\n",
              "        document.querySelector('#df-1f3ad368-6155-499f-8bdc-f78f35c5a061 button.colab-df-convert');\n",
              "      buttonEl.style.display =\n",
              "        google.colab.kernel.accessAllowed ? 'block' : 'none';\n",
              "\n",
              "      async function convertToInteractive(key) {\n",
              "        const element = document.querySelector('#df-1f3ad368-6155-499f-8bdc-f78f35c5a061');\n",
              "        const dataTable =\n",
              "          await google.colab.kernel.invokeFunction('convertToInteractive',\n",
              "                                                    [key], {});\n",
              "        if (!dataTable) return;\n",
              "\n",
              "        const docLinkHtml = 'Like what you see? Visit the ' +\n",
              "          '<a target=\"_blank\" href=https://colab.research.google.com/notebooks/data_table.ipynb>data table notebook</a>'\n",
              "          + ' to learn more about interactive tables.';\n",
              "        element.innerHTML = '';\n",
              "        dataTable['output_type'] = 'display_data';\n",
              "        await google.colab.output.renderOutput(dataTable, element);\n",
              "        const docLink = document.createElement('div');\n",
              "        docLink.innerHTML = docLinkHtml;\n",
              "        element.appendChild(docLink);\n",
              "      }\n",
              "    </script>\n",
              "  </div>\n",
              "\n",
              "\n",
              "<div id=\"df-da83e89f-f897-464a-9348-0262c8097c5d\">\n",
              "  <button class=\"colab-df-quickchart\" onclick=\"quickchart('df-da83e89f-f897-464a-9348-0262c8097c5d')\"\n",
              "            title=\"Suggest charts\"\n",
              "            style=\"display:none;\">\n",
              "\n",
              "<svg xmlns=\"http://www.w3.org/2000/svg\" height=\"24px\"viewBox=\"0 0 24 24\"\n",
              "     width=\"24px\">\n",
              "    <g>\n",
              "        <path d=\"M19 3H5c-1.1 0-2 .9-2 2v14c0 1.1.9 2 2 2h14c1.1 0 2-.9 2-2V5c0-1.1-.9-2-2-2zM9 17H7v-7h2v7zm4 0h-2V7h2v10zm4 0h-2v-4h2v4z\"/>\n",
              "    </g>\n",
              "</svg>\n",
              "  </button>\n",
              "\n",
              "<style>\n",
              "  .colab-df-quickchart {\n",
              "      --bg-color: #E8F0FE;\n",
              "      --fill-color: #1967D2;\n",
              "      --hover-bg-color: #E2EBFA;\n",
              "      --hover-fill-color: #174EA6;\n",
              "      --disabled-fill-color: #AAA;\n",
              "      --disabled-bg-color: #DDD;\n",
              "  }\n",
              "\n",
              "  [theme=dark] .colab-df-quickchart {\n",
              "      --bg-color: #3B4455;\n",
              "      --fill-color: #D2E3FC;\n",
              "      --hover-bg-color: #434B5C;\n",
              "      --hover-fill-color: #FFFFFF;\n",
              "      --disabled-bg-color: #3B4455;\n",
              "      --disabled-fill-color: #666;\n",
              "  }\n",
              "\n",
              "  .colab-df-quickchart {\n",
              "    background-color: var(--bg-color);\n",
              "    border: none;\n",
              "    border-radius: 50%;\n",
              "    cursor: pointer;\n",
              "    display: none;\n",
              "    fill: var(--fill-color);\n",
              "    height: 32px;\n",
              "    padding: 0;\n",
              "    width: 32px;\n",
              "  }\n",
              "\n",
              "  .colab-df-quickchart:hover {\n",
              "    background-color: var(--hover-bg-color);\n",
              "    box-shadow: 0 1px 2px rgba(60, 64, 67, 0.3), 0 1px 3px 1px rgba(60, 64, 67, 0.15);\n",
              "    fill: var(--button-hover-fill-color);\n",
              "  }\n",
              "\n",
              "  .colab-df-quickchart-complete:disabled,\n",
              "  .colab-df-quickchart-complete:disabled:hover {\n",
              "    background-color: var(--disabled-bg-color);\n",
              "    fill: var(--disabled-fill-color);\n",
              "    box-shadow: none;\n",
              "  }\n",
              "\n",
              "  .colab-df-spinner {\n",
              "    border: 2px solid var(--fill-color);\n",
              "    border-color: transparent;\n",
              "    border-bottom-color: var(--fill-color);\n",
              "    animation:\n",
              "      spin 1s steps(1) infinite;\n",
              "  }\n",
              "\n",
              "  @keyframes spin {\n",
              "    0% {\n",
              "      border-color: transparent;\n",
              "      border-bottom-color: var(--fill-color);\n",
              "      border-left-color: var(--fill-color);\n",
              "    }\n",
              "    20% {\n",
              "      border-color: transparent;\n",
              "      border-left-color: var(--fill-color);\n",
              "      border-top-color: var(--fill-color);\n",
              "    }\n",
              "    30% {\n",
              "      border-color: transparent;\n",
              "      border-left-color: var(--fill-color);\n",
              "      border-top-color: var(--fill-color);\n",
              "      border-right-color: var(--fill-color);\n",
              "    }\n",
              "    40% {\n",
              "      border-color: transparent;\n",
              "      border-right-color: var(--fill-color);\n",
              "      border-top-color: var(--fill-color);\n",
              "    }\n",
              "    60% {\n",
              "      border-color: transparent;\n",
              "      border-right-color: var(--fill-color);\n",
              "    }\n",
              "    80% {\n",
              "      border-color: transparent;\n",
              "      border-right-color: var(--fill-color);\n",
              "      border-bottom-color: var(--fill-color);\n",
              "    }\n",
              "    90% {\n",
              "      border-color: transparent;\n",
              "      border-bottom-color: var(--fill-color);\n",
              "    }\n",
              "  }\n",
              "</style>\n",
              "\n",
              "  <script>\n",
              "    async function quickchart(key) {\n",
              "      const quickchartButtonEl =\n",
              "        document.querySelector('#' + key + ' button');\n",
              "      quickchartButtonEl.disabled = true;  // To prevent multiple clicks.\n",
              "      quickchartButtonEl.classList.add('colab-df-spinner');\n",
              "      try {\n",
              "        const charts = await google.colab.kernel.invokeFunction(\n",
              "            'suggestCharts', [key], {});\n",
              "      } catch (error) {\n",
              "        console.error('Error during call to suggestCharts:', error);\n",
              "      }\n",
              "      quickchartButtonEl.classList.remove('colab-df-spinner');\n",
              "      quickchartButtonEl.classList.add('colab-df-quickchart-complete');\n",
              "    }\n",
              "    (() => {\n",
              "      let quickchartButtonEl =\n",
              "        document.querySelector('#df-da83e89f-f897-464a-9348-0262c8097c5d button');\n",
              "      quickchartButtonEl.style.display =\n",
              "        google.colab.kernel.accessAllowed ? 'block' : 'none';\n",
              "    })();\n",
              "  </script>\n",
              "</div>\n",
              "    </div>\n",
              "  </div>\n"
            ],
            "application/vnd.google.colaboratory.intrinsic+json": {
              "type": "dataframe",
              "variable_name": "femaleBaseFreq",
              "summary": "{\n  \"name\": \"femaleBaseFreq\",\n  \"rows\": 11,\n  \"fields\": [\n    {\n      \"column\": \"happiness\",\n      \"properties\": {\n        \"dtype\": \"number\",\n        \"std\": 25.19435723259548,\n        \"min\": 198.6,\n        \"max\": 280.3,\n        \"num_unique_values\": 11,\n        \"samples\": [\n          280.3,\n          271.8,\n          271.5\n        ],\n        \"semantic_type\": \"\",\n        \"description\": \"\"\n      }\n    },\n    {\n      \"column\": \"sadness\",\n      \"properties\": {\n        \"dtype\": \"number\",\n        \"std\": 30.976228422335854,\n        \"min\": 130.2,\n        \"max\": 243.8,\n        \"num_unique_values\": 11,\n        \"samples\": [\n          224.9,\n          180.5,\n          230.8\n        ],\n        \"semantic_type\": \"\",\n        \"description\": \"\"\n      }\n    },\n    {\n      \"column\": \"anger\",\n      \"properties\": {\n        \"dtype\": \"number\",\n        \"std\": 25.26160579362934,\n        \"min\": 205.7,\n        \"max\": 282.1,\n        \"num_unique_values\": 11,\n        \"samples\": [\n          282.1,\n          245.7,\n          270.4\n        ],\n        \"semantic_type\": \"\",\n        \"description\": \"\"\n      }\n    },\n    {\n      \"column\": \"surprise\",\n      \"properties\": {\n        \"dtype\": \"number\",\n        \"std\": 27.264732464552743,\n        \"min\": 170.9,\n        \"max\": 260.3,\n        \"num_unique_values\": 11,\n        \"samples\": [\n          254.2,\n          199.1,\n          242.4\n        ],\n        \"semantic_type\": \"\",\n        \"description\": \"\"\n      }\n    },\n    {\n      \"column\": \"fear\",\n      \"properties\": {\n        \"dtype\": \"number\",\n        \"std\": 37.26245978315051,\n        \"min\": 150.2,\n        \"max\": 280.8,\n        \"num_unique_values\": 11,\n        \"samples\": [\n          269.4,\n          238.8,\n          237.1\n        ],\n        \"semantic_type\": \"\",\n        \"description\": \"\"\n      }\n    },\n    {\n      \"column\": \"disgust\",\n      \"properties\": {\n        \"dtype\": \"number\",\n        \"std\": 31.174132633556066,\n        \"min\": 167.9,\n        \"max\": 254.2,\n        \"num_unique_values\": 11,\n        \"samples\": [\n          250.1,\n          172.9,\n          249.9\n        ],\n        \"semantic_type\": \"\",\n        \"description\": \"\"\n      }\n    },\n    {\n      \"column\": \"neutral\",\n      \"properties\": {\n        \"dtype\": \"number\",\n        \"std\": 29.87906838026794,\n        \"min\": 146.2,\n        \"max\": 251.6,\n        \"num_unique_values\": 10,\n        \"samples\": [\n          237.5,\n          146.2,\n          218.8\n        ],\n        \"semantic_type\": \"\",\n        \"description\": \"\"\n      }\n    }\n  ]\n}"
            }
          },
          "metadata": {},
          "execution_count": 8
        }
      ]
    },
    {
      "cell_type": "code",
      "source": [
        "def t_stat(smaple1, sample2):\n",
        "    tkr = (smaple1.mean() - sample2.mean()) / np.sqrt(stat.stdev(smaple1) ** 2 / len(smaple1) + stat.stdev(sample2) ** 2 / len(sample2))\n",
        "    return tkr"
      ],
      "metadata": {
        "id": "x6hE_fhted7d"
      },
      "execution_count": 10,
      "outputs": []
    },
    {
      "cell_type": "code",
      "source": [
        "print(t_stat(femaleBaseFreq['happiness'], femaleBaseFreq['sadness']))"
      ],
      "metadata": {
        "colab": {
          "base_uri": "https://localhost:8080/"
        },
        "id": "mju8SyvvUoXZ",
        "outputId": "b3d6e7c9-9200-4f74-b579-39b3532ff49d"
      },
      "execution_count": 11,
      "outputs": [
        {
          "output_type": "stream",
          "name": "stdout",
          "text": [
            "4.5073638308067565\n"
          ]
        }
      ]
    },
    {
      "cell_type": "code",
      "source": [
        "print(t_stat(femaleBaseFreq['fear'], femaleBaseFreq['anger']))"
      ],
      "metadata": {
        "colab": {
          "base_uri": "https://localhost:8080/"
        },
        "id": "sQkL0fqWj-RS",
        "outputId": "745c43e8-5c75-491f-c53b-c87c76a99046"
      },
      "execution_count": 12,
      "outputs": [
        {
          "output_type": "stream",
          "name": "stdout",
          "text": [
            "-0.7836123158353575\n"
          ]
        }
      ]
    },
    {
      "cell_type": "code",
      "source": [
        "def norm_dist(sample):\n",
        "    statistic, pvalue = shapiro (sample)\n",
        "    print('statistic = %.3f, p = %.3f\\n' % (statistic, pvalue))\n",
        "    if pvalue > 0.05:\n",
        "      print('Probably Gaussian')\n",
        "    else:\n",
        "      print('Probably not Gaussian')\n",
        "    return statistic, pvalue"
      ],
      "metadata": {
        "id": "h3nk1r15gAuZ"
      },
      "execution_count": 13,
      "outputs": []
    },
    {
      "cell_type": "code",
      "source": [
        "statistic, pvalue = norm_dist (femaleBaseFreq['happiness'])"
      ],
      "metadata": {
        "colab": {
          "base_uri": "https://localhost:8080/"
        },
        "id": "1_RGU-JRaHVz",
        "outputId": "fb48e407-439a-4809-a6f3-69026199a264"
      },
      "execution_count": 16,
      "outputs": [
        {
          "output_type": "stream",
          "name": "stdout",
          "text": [
            "statistic = 0.895, p = 0.162\n",
            "\n",
            "Probably Gaussian\n"
          ]
        }
      ]
    },
    {
      "cell_type": "code",
      "source": [
        "statistic, pvalue = norm_dist (femaleBaseFreq['sadness'])"
      ],
      "metadata": {
        "colab": {
          "base_uri": "https://localhost:8080/"
        },
        "id": "NJ5mEWmndOFl",
        "outputId": "bd0e6153-03d0-4f18-b10c-6e26959c8078"
      },
      "execution_count": 17,
      "outputs": [
        {
          "output_type": "stream",
          "name": "stdout",
          "text": [
            "statistic = 0.943, p = 0.555\n",
            "\n",
            "Probably Gaussian\n"
          ]
        }
      ]
    },
    {
      "cell_type": "code",
      "source": [
        "statistic, pvalue = norm_dist (femaleBaseFreq['anger'])"
      ],
      "metadata": {
        "colab": {
          "base_uri": "https://localhost:8080/"
        },
        "id": "ueW9_N5-dQ8i",
        "outputId": "e2e4f50d-50f1-485f-d2c2-e85aadc373ff"
      },
      "execution_count": 18,
      "outputs": [
        {
          "output_type": "stream",
          "name": "stdout",
          "text": [
            "statistic = 0.888, p = 0.132\n",
            "\n",
            "Probably Gaussian\n"
          ]
        }
      ]
    },
    {
      "cell_type": "code",
      "source": [
        "statistic, pvalue = norm_dist (femaleBaseFreq['surprise'])"
      ],
      "metadata": {
        "colab": {
          "base_uri": "https://localhost:8080/"
        },
        "id": "_ykIuftsdUl1",
        "outputId": "0667ec00-a2db-412d-85aa-e07af2a83f9d"
      },
      "execution_count": 19,
      "outputs": [
        {
          "output_type": "stream",
          "name": "stdout",
          "text": [
            "statistic = 0.952, p = 0.670\n",
            "\n",
            "Probably Gaussian\n"
          ]
        }
      ]
    },
    {
      "cell_type": "code",
      "source": [
        "statistic, pvalue = norm_dist (femaleBaseFreq['fear'])"
      ],
      "metadata": {
        "colab": {
          "base_uri": "https://localhost:8080/"
        },
        "id": "rqRur6nPdWbF",
        "outputId": "01007e38-75be-4bbb-96e5-7e1ddcebad84"
      },
      "execution_count": 20,
      "outputs": [
        {
          "output_type": "stream",
          "name": "stdout",
          "text": [
            "statistic = 0.807, p = 0.012\n",
            "\n",
            "Probably not Gaussian\n"
          ]
        }
      ]
    },
    {
      "cell_type": "code",
      "source": [
        "statistic, pvalue = norm_dist (femaleBaseFreq['disgust'])"
      ],
      "metadata": {
        "colab": {
          "base_uri": "https://localhost:8080/"
        },
        "id": "l5aSDi_ydXuI",
        "outputId": "0a5ea09f-6c30-4075-f516-6bf27e3b118f"
      },
      "execution_count": 21,
      "outputs": [
        {
          "output_type": "stream",
          "name": "stdout",
          "text": [
            "statistic = 0.856, p = 0.052\n",
            "\n",
            "Probably Gaussian\n"
          ]
        }
      ]
    },
    {
      "cell_type": "code",
      "source": [
        "statistic, pvalue = norm_dist (femaleBaseFreq['neutral'])"
      ],
      "metadata": {
        "colab": {
          "base_uri": "https://localhost:8080/"
        },
        "id": "OzdY4mKydZb7",
        "outputId": "4e16b0a2-02e7-4157-bc05-86c8bf0a6130"
      },
      "execution_count": 22,
      "outputs": [
        {
          "output_type": "stream",
          "name": "stdout",
          "text": [
            "statistic = 0.959, p = 0.764\n",
            "\n",
            "Probably Gaussian\n"
          ]
        }
      ]
    },
    {
      "cell_type": "code",
      "source": [
        "def var_check(sample1, sample2):\n",
        "    statistic, pvalue = st.bartlett(sample1, sample2)\n",
        "    print(f\"Статистика Бартлетта: {statistic}\")\n",
        "    print(f\"p-значение: {pvalue}\")\n",
        "    if pvalue < 0.05:\n",
        "        print(\"Дисперсии не равны\")\n",
        "    else:\n",
        "        print(\"Дисперсии равны\")\n",
        "    return statistic, pvalue"
      ],
      "metadata": {
        "id": "EBkuSf-hddDF"
      },
      "execution_count": 23,
      "outputs": []
    },
    {
      "cell_type": "code",
      "source": [
        "statistic, pvalue = var_check(femaleBaseFreq['happiness'], femaleBaseFreq['sadness'])"
      ],
      "metadata": {
        "colab": {
          "base_uri": "https://localhost:8080/"
        },
        "id": "zT96w1A3hhOC",
        "outputId": "82679fca-476f-461f-a73d-229b0f2b7b8a"
      },
      "execution_count": 26,
      "outputs": [
        {
          "output_type": "stream",
          "name": "stdout",
          "text": [
            "Статистика Бартлетта: 0.4036508441018192\n",
            "p-значение: 0.5252098065550246\n",
            "Дисперсии равны\n"
          ]
        }
      ]
    },
    {
      "cell_type": "code",
      "source": [
        "statistic, pvalue = var_check(femaleBaseFreq['fear'], femaleBaseFreq['anger'])"
      ],
      "metadata": {
        "colab": {
          "base_uri": "https://localhost:8080/"
        },
        "id": "2YyezZHvj3Al",
        "outputId": "a2f267e1-d207-4bd7-b38b-a7886dcd76f0"
      },
      "execution_count": 27,
      "outputs": [
        {
          "output_type": "stream",
          "name": "stdout",
          "text": [
            "Статистика Бартлетта: 1.404097201736823\n",
            "p-значение: 0.23603876836261573\n",
            "Дисперсии равны\n"
          ]
        }
      ]
    },
    {
      "cell_type": "code",
      "source": [
        "def ttest_ind(sample1, sample2):\n",
        "    tstatistic, pvalue = st.ttest_ind(sample1, sample2)\n",
        "\n",
        "    print(f\"t-статистика: {tstatistic}\")\n",
        "    print(f\"p-значение: {pvalue}\")\n",
        "\n",
        "    if pvalue < 0.05:\n",
        "        print(\"Средние не равны\")\n",
        "    else:\n",
        "        print(\"Средние равны\")\n",
        "    return tstatistic, pvalue"
      ],
      "metadata": {
        "id": "OLiJJ9x6h3EM"
      },
      "execution_count": 28,
      "outputs": []
    },
    {
      "cell_type": "code",
      "source": [
        "tstatistic, pvalue = ttest_ind(femaleBaseFreq['happiness'], femaleBaseFreq['sadness'])"
      ],
      "metadata": {
        "colab": {
          "base_uri": "https://localhost:8080/"
        },
        "id": "i_Y96S9wjyul",
        "outputId": "aba71d7d-02cb-4349-a296-36c6c659aea3"
      },
      "execution_count": 30,
      "outputs": [
        {
          "output_type": "stream",
          "name": "stdout",
          "text": [
            "t-статистика: 4.5073638308067565\n",
            "p-значение: 0.00021505036512303903\n",
            "Средние не равны\n"
          ]
        }
      ]
    },
    {
      "cell_type": "code",
      "source": [
        "tstatistic, pvalue = ttest_ind(femaleBaseFreq['fear'], femaleBaseFreq['anger'])"
      ],
      "metadata": {
        "colab": {
          "base_uri": "https://localhost:8080/"
        },
        "id": "RUR5Ir1aiFJL",
        "outputId": "404cfee1-d0ed-4c59-8950-069219219c03"
      },
      "execution_count": 31,
      "outputs": [
        {
          "output_type": "stream",
          "name": "stdout",
          "text": [
            "t-статистика: -0.7836123158353575\n",
            "p-значение: 0.4424493428087469\n",
            "Средние равны\n"
          ]
        }
      ]
    }
  ]
}